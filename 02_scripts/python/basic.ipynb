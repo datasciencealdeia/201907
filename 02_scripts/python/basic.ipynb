{
 "cells": [
  {
   "cell_type": "code",
   "execution_count": 2,
   "metadata": {},
   "outputs": [
    {
     "name": "stdout",
     "output_type": "stream",
     "text": [
      "Hello World\n"
     ]
    }
   ],
   "source": [
    "#Primeiro o básico\n",
    "\n",
    "print (\"Hello World\")"
   ]
  },
  {
   "cell_type": "code",
   "execution_count": 3,
   "metadata": {},
   "outputs": [
    {
     "name": "stdout",
     "output_type": "stream",
     "text": [
      "The Zen of Python, by Tim Peters\n",
      "\n",
      "Beautiful is better than ugly.\n",
      "Explicit is better than implicit.\n",
      "Simple is better than complex.\n",
      "Complex is better than complicated.\n",
      "Flat is better than nested.\n",
      "Sparse is better than dense.\n",
      "Readability counts.\n",
      "Special cases aren't special enough to break the rules.\n",
      "Although practicality beats purity.\n",
      "Errors should never pass silently.\n",
      "Unless explicitly silenced.\n",
      "In the face of ambiguity, refuse the temptation to guess.\n",
      "There should be one-- and preferably only one --obvious way to do it.\n",
      "Although that way may not be obvious at first unless you're Dutch.\n",
      "Now is better than never.\n",
      "Although never is often better than *right* now.\n",
      "If the implementation is hard to explain, it's a bad idea.\n",
      "If the implementation is easy to explain, it may be a good idea.\n",
      "Namespaces are one honking great idea -- let's do more of those!\n"
     ]
    }
   ],
   "source": [
    "#easter egg - Romantic Python\n",
    "\n",
    "import this"
   ]
  },
  {
   "cell_type": "code",
   "execution_count": 5,
   "metadata": {},
   "outputs": [],
   "source": [
    "#Atribuicao a variavel\n",
    "a = 1"
   ]
  },
  {
   "cell_type": "code",
   "execution_count": 6,
   "metadata": {},
   "outputs": [
    {
     "name": "stdout",
     "output_type": "stream",
     "text": [
      "1\n"
     ]
    }
   ],
   "source": [
    "#Apresentando o conteudo da variavel\n",
    "print (a)"
   ]
  },
  {
   "cell_type": "code",
   "execution_count": 7,
   "metadata": {},
   "outputs": [
    {
     "data": {
      "text/plain": [
       "int"
      ]
     },
     "execution_count": 7,
     "metadata": {},
     "output_type": "execute_result"
    }
   ],
   "source": [
    "#Verificando o tipo do dado\n",
    "type(a)"
   ]
  },
  {
   "cell_type": "code",
   "execution_count": 8,
   "metadata": {},
   "outputs": [
    {
     "name": "stdout",
     "output_type": "stream",
     "text": [
      "xpto\n"
     ]
    },
    {
     "data": {
      "text/plain": [
       "str"
      ]
     },
     "execution_count": 8,
     "metadata": {},
     "output_type": "execute_result"
    }
   ],
   "source": [
    "#String\n",
    "\n",
    "a = 'xpto'\n",
    "print (a)\n",
    "type(a)\n"
   ]
  },
  {
   "cell_type": "code",
   "execution_count": 9,
   "metadata": {},
   "outputs": [
    {
     "name": "stdout",
     "output_type": "stream",
     "text": [
      "10.0\n"
     ]
    },
    {
     "data": {
      "text/plain": [
       "float"
      ]
     },
     "execution_count": 9,
     "metadata": {},
     "output_type": "execute_result"
    }
   ],
   "source": [
    "#Float\n",
    "\n",
    "a = 10.0\n",
    "print (a)\n",
    "type(a)"
   ]
  },
  {
   "cell_type": "code",
   "execution_count": 10,
   "metadata": {},
   "outputs": [
    {
     "name": "stdout",
     "output_type": "stream",
     "text": [
      "True\n"
     ]
    },
    {
     "data": {
      "text/plain": [
       "bool"
      ]
     },
     "execution_count": 10,
     "metadata": {},
     "output_type": "execute_result"
    }
   ],
   "source": [
    "#Boolean\n",
    "\n",
    "a = True\n",
    "print (a)\n",
    "type (a)"
   ]
  },
  {
   "cell_type": "code",
   "execution_count": 11,
   "metadata": {},
   "outputs": [
    {
     "name": "stdout",
     "output_type": "stream",
     "text": [
      "3\n"
     ]
    }
   ],
   "source": [
    "#Soma\n",
    "a = 1\n",
    "b = 2\n",
    "print (a + b)"
   ]
  },
  {
   "cell_type": "code",
   "execution_count": 12,
   "metadata": {},
   "outputs": [
    {
     "name": "stdout",
     "output_type": "stream",
     "text": [
      "25\n"
     ]
    }
   ],
   "source": [
    "#Exponenciacao\n",
    "a = 5\n",
    "print (a**2)"
   ]
  },
  {
   "cell_type": "code",
   "execution_count": 13,
   "metadata": {},
   "outputs": [
    {
     "name": "stdout",
     "output_type": "stream",
     "text": [
      "False\n"
     ]
    }
   ],
   "source": [
    "#Teste logico\n",
    "a = 1\n",
    "b = 2\n",
    "a == b\n",
    "print (a > b)"
   ]
  },
  {
   "cell_type": "code",
   "execution_count": 14,
   "metadata": {},
   "outputs": [
    {
     "name": "stdout",
     "output_type": "stream",
     "text": [
      "True\n"
     ]
    }
   ],
   "source": [
    "#Teste logico\n",
    "print (a < b)"
   ]
  },
  {
   "cell_type": "code",
   "execution_count": 15,
   "metadata": {},
   "outputs": [
    {
     "name": "stdout",
     "output_type": "stream",
     "text": [
      "6\n",
      "4\n"
     ]
    }
   ],
   "source": [
    "c, d = 3, 2\n",
    "\n",
    "print (c*d)\n",
    "\n",
    "c+=1\n",
    "\n",
    "print (c)"
   ]
  },
  {
   "cell_type": "code",
   "execution_count": 16,
   "metadata": {},
   "outputs": [
    {
     "name": "stdout",
     "output_type": "stream",
     "text": [
      "Qual a sua graça?\n",
      "Charles\n",
      "Oi %s. Obrigado! Charles\n"
     ]
    }
   ],
   "source": [
    "#Input\n",
    "\n",
    "name = input(\"Qual a sua graça?\\n\")\n",
    "print (\"Oi %s. Obrigado!\", name)"
   ]
  },
  {
   "cell_type": "code",
   "execution_count": 17,
   "metadata": {},
   "outputs": [
    {
     "name": "stdout",
     "output_type": "stream",
     "text": [
      "Qual a sua graça?Charles\n",
      "Oi Charles. Obrigado!\n"
     ]
    }
   ],
   "source": [
    "#jogo dos \"7 erros\"\n",
    "name = input(\"Qual a sua graça?\")\n",
    "print('Oi %s. Obrigado!' % name)"
   ]
  },
  {
   "cell_type": "code",
   "execution_count": 18,
   "metadata": {},
   "outputs": [
    {
     "name": "stdout",
     "output_type": "stream",
     "text": [
      "['Banana', 'Maça', 'Morango', 'Cereja', 'Laranja', 'Caqui', 'Kiwi']\n"
     ]
    },
    {
     "data": {
      "text/plain": [
       "list"
      ]
     },
     "execution_count": 18,
     "metadata": {},
     "output_type": "execute_result"
    }
   ],
   "source": [
    "#lista\n",
    "frutas = ['Banana', 'Maça', 'Morango', 'Cereja', 'Laranja', 'Caqui', 'Kiwi']\n",
    "print (frutas)\n",
    "type(frutas)"
   ]
  },
  {
   "cell_type": "code",
   "execution_count": 22,
   "metadata": {},
   "outputs": [
    {
     "data": {
      "text/plain": [
       "['Ameixa',\n",
       " 'Ameixa',\n",
       " 'Banana',\n",
       " 'Maça',\n",
       " 'Morango',\n",
       " 'Cereja',\n",
       " 'Laranja',\n",
       " 'Caqui',\n",
       " 'Kiwi']"
      ]
     },
     "execution_count": 22,
     "metadata": {},
     "output_type": "execute_result"
    }
   ],
   "source": [
    "frutas.insert(0,'Ameixa')\n",
    "\n",
    "frutas.insert()"
   ]
  },
  {
   "cell_type": "code",
   "execution_count": 23,
   "metadata": {},
   "outputs": [
    {
     "data": {
      "text/plain": [
       "['Ameixa',\n",
       " 'Ameixa',\n",
       " 'Banana',\n",
       " 'Maça',\n",
       " 'Morango',\n",
       " 'Cereja',\n",
       " 'Laranja',\n",
       " 'Caqui',\n",
       " 'Kiwi',\n",
       " 'Cocada']"
      ]
     },
     "execution_count": 23,
     "metadata": {},
     "output_type": "execute_result"
    }
   ],
   "source": [
    "#adicionando ao final da lista\n",
    "\n",
    "frutas.append('Cocada')\n",
    "frutas"
   ]
  },
  {
   "cell_type": "code",
   "execution_count": 24,
   "metadata": {},
   "outputs": [
    {
     "data": {
      "text/plain": [
       "['Ameixa',\n",
       " 'Ameixa',\n",
       " 'Banana',\n",
       " 'Maça',\n",
       " 'Morango',\n",
       " 'Cereja',\n",
       " 'Laranja',\n",
       " 'Caqui',\n",
       " 'Kiwi']"
      ]
     },
     "execution_count": 24,
     "metadata": {},
     "output_type": "execute_result"
    }
   ],
   "source": [
    "#retirando entrada da lista\n",
    "\n",
    "frutas.remove('Cocada')\n",
    "frutas"
   ]
  },
  {
   "cell_type": "code",
   "execution_count": 25,
   "metadata": {},
   "outputs": [
    {
     "data": {
      "text/plain": [
       "'Kiwi'"
      ]
     },
     "execution_count": 25,
     "metadata": {},
     "output_type": "execute_result"
    }
   ],
   "source": [
    "#consumindo ultima entrada lista\n",
    "frutas.pop()"
   ]
  },
  {
   "cell_type": "code",
   "execution_count": 26,
   "metadata": {},
   "outputs": [],
   "source": [
    "frutas.append('Banana')"
   ]
  },
  {
   "cell_type": "code",
   "execution_count": 27,
   "metadata": {},
   "outputs": [
    {
     "data": {
      "text/plain": [
       "2"
      ]
     },
     "execution_count": 27,
     "metadata": {},
     "output_type": "execute_result"
    }
   ],
   "source": [
    "#contar itens da lista\n",
    "frutas.count('Banana')"
   ]
  },
  {
   "cell_type": "code",
   "execution_count": 28,
   "metadata": {},
   "outputs": [
    {
     "name": "stdout",
     "output_type": "stream",
     "text": [
      "['Ameixa', 'Ameixa', 'Banana', 'Maça', 'Morango', 'Cereja', 'Laranja', 'Caqui', 'Banana']\n"
     ]
    },
    {
     "data": {
      "text/plain": [
       "'Ameixa'"
      ]
     },
     "execution_count": 28,
     "metadata": {},
     "output_type": "execute_result"
    }
   ],
   "source": [
    "#A lista comeca com indice...\n",
    "\n",
    "print (frutas)\n",
    "frutas[1]"
   ]
  },
  {
   "cell_type": "code",
   "execution_count": 29,
   "metadata": {},
   "outputs": [
    {
     "data": {
      "text/plain": [
       "'Ameixa'"
      ]
     },
     "execution_count": 29,
     "metadata": {},
     "output_type": "execute_result"
    }
   ],
   "source": [
    "frutas[0]"
   ]
  },
  {
   "cell_type": "code",
   "execution_count": 30,
   "metadata": {},
   "outputs": [
    {
     "name": "stdout",
     "output_type": "stream",
     "text": [
      "('Banana', 'Maça', 'Morango', 'Cereja', 'Laranja', 1, 2)\n"
     ]
    },
    {
     "data": {
      "text/plain": [
       "tuple"
      ]
     },
     "execution_count": 30,
     "metadata": {},
     "output_type": "execute_result"
    }
   ],
   "source": [
    "#tupla\n",
    "frutas = ('Banana', 'Maça', 'Morango', 'Cereja', 'Laranja', 1, 2)\n",
    "print (frutas)\n",
    "type(frutas)"
   ]
  },
  {
   "cell_type": "code",
   "execution_count": 31,
   "metadata": {},
   "outputs": [
    {
     "data": {
      "text/plain": [
       "dict"
      ]
     },
     "execution_count": 31,
     "metadata": {},
     "output_type": "execute_result"
    }
   ],
   "source": [
    "dictionary = {\n",
    "    'morango': 5.99,\n",
    "    'banana': 1.97}\n",
    "\n",
    "type(dictionary)"
   ]
  },
  {
   "cell_type": "code",
   "execution_count": 33,
   "metadata": {},
   "outputs": [
    {
     "name": "stdout",
     "output_type": "stream",
     "text": [
      "preço morango\n",
      "10.03\n"
     ]
    }
   ],
   "source": [
    "valor = input(\"preço morango\\n\")"
   ]
  },
  {
   "cell_type": "code",
   "execution_count": 34,
   "metadata": {},
   "outputs": [],
   "source": [
    "dictionary = {\n",
    "    'morango': valor,\n",
    "    'banana': 1.97}"
   ]
  },
  {
   "cell_type": "code",
   "execution_count": 35,
   "metadata": {},
   "outputs": [
    {
     "name": "stdout",
     "output_type": "stream",
     "text": [
      "10.03\n"
     ]
    }
   ],
   "source": [
    "print (dictionary['morango'])"
   ]
  },
  {
   "cell_type": "code",
   "execution_count": 37,
   "metadata": {},
   "outputs": [
    {
     "name": "stdout",
     "output_type": "stream",
     "text": [
      "Digite o valor de n: -3\n",
      "Não é possível calcular fatorial de número negativo\n",
      "O valor de -3! eh = 1\n"
     ]
    }
   ],
   "source": [
    "#bora fazer um fatorial\n",
    "#Lembrando > 5! = 5.4.3.2.1 \n",
    "#Importante > Nao existe fatorial de numero negativo\n",
    "\n",
    "def main():\n",
    "    n = int(input(\"Digite o valor de n: \"))\n",
    "    fat = 1\n",
    "    i = 2\n",
    "    \n",
    "    if n < 0:\n",
    "        print ('Não é possível calcular fatorial de número negativo')\n",
    "        \n",
    "    while i <= n:\n",
    "        fat = fat*i\n",
    "        i = i + 1\n",
    "\n",
    "    print(\"O valor de %d! eh =\" %n, fat)\n",
    "\n",
    "#-----\n",
    "main()"
   ]
  },
  {
   "cell_type": "code",
   "execution_count": 38,
   "metadata": {},
   "outputs": [
    {
     "name": "stdout",
     "output_type": "stream",
     "text": [
      "Digito o valor de n: 5\n",
      "O valor de 5! eh = 120\n"
     ]
    }
   ],
   "source": [
    "#fatorial nivel Yoda - Recursivo\n",
    "\n",
    "def main(n): \n",
    "    if n == 0:\n",
    "        return 1\n",
    "    elif n < 0:\n",
    "        return -1\n",
    "    else:\n",
    "        return n * main(n-1)\n",
    "\n",
    "nr = int(input('Digito o valor de n: '))\n",
    "\n",
    "if nr > 0:\n",
    "    print(\"O valor de %d! eh =\" %nr, main(nr))\n",
    "else:\n",
    "    print('O d% eh um valor negativo, nao eh possivel gerar fatorial' %nr)"
   ]
  },
  {
   "cell_type": "code",
   "execution_count": 39,
   "metadata": {},
   "outputs": [
    {
     "name": "stdout",
     "output_type": "stream",
     "text": [
      "Athletico\n",
      "Coritiba\n",
      "Paraná\n"
     ]
    }
   ],
   "source": [
    "#Loop - Laco - Estrutura pra sentar o sistema operacional\n",
    "\n",
    "lista = ['Athletico', 'Coritiba', 'Paraná']\n",
    "\n",
    "for time in lista:\n",
    "    print (time)"
   ]
  },
  {
   "cell_type": "code",
   "execution_count": 40,
   "metadata": {},
   "outputs": [
    {
     "name": "stdout",
     "output_type": "stream",
     "text": [
      "Conta pra mim... 0\n",
      "Conta pra mim... 1\n",
      "Conta pra mim... 2\n",
      "Conta pra mim... 3\n",
      "Conta pra mim... 4\n",
      "Conta pra mim... 5\n",
      "Conta pra mim... 6\n",
      "Conta pra mim... 7\n",
      "Conta pra mim... 8\n",
      "Conta pra mim... 9\n"
     ]
    }
   ],
   "source": [
    "for i in range(10):\n",
    "    print ('Conta pra mim...', i)"
   ]
  },
  {
   "cell_type": "code",
   "execution_count": 41,
   "metadata": {},
   "outputs": [
    {
     "name": "stdout",
     "output_type": "stream",
     "text": [
      "0 1 1 2 3 5 8 13 21 34 55 89 144 233 377 610 987 \n"
     ]
    }
   ],
   "source": [
    "#funcoes e laco condicional white\n",
    "\n",
    "#IMPORTANTE mantenha identacao\n",
    "\n",
    "def fib(n): #funcao para calculo da sequencia fibonacci (0,1,1,2,3,5,8,13,21 etc.)\n",
    "  a, b = 0, 1\n",
    "  while a < n:\n",
    "    print(a, end=' ')\n",
    "    a, b = b, a+b\n",
    "  print()\n",
    "\n",
    "fib(1000)"
   ]
  },
  {
   "cell_type": "code",
   "execution_count": 42,
   "metadata": {},
   "outputs": [
    {
     "name": "stdout",
     "output_type": "stream",
     "text": [
      "0 1 1 2 3 5 8 13 21 34 55 89 144 233 377 610 987 1597 2584 \n"
     ]
    }
   ],
   "source": [
    "fib(3000)"
   ]
  },
  {
   "cell_type": "code",
   "execution_count": 43,
   "metadata": {},
   "outputs": [
    {
     "ename": "SyntaxError",
     "evalue": "invalid syntax (<ipython-input-43-363d9c5a4d50>, line 10)",
     "output_type": "error",
     "traceback": [
      "\u001b[0;36m  File \u001b[0;32m\"<ipython-input-43-363d9c5a4d50>\"\u001b[0;36m, line \u001b[0;32m10\u001b[0m\n\u001b[0;31m    print 'Well, {0}, I am thinking of a number between 1 and 20.'.format(name)\u001b[0m\n\u001b[0m                                                                 ^\u001b[0m\n\u001b[0;31mSyntaxError\u001b[0m\u001b[0;31m:\u001b[0m invalid syntax\n"
     ]
    }
   ],
   "source": [
    "#Python 2, error\n",
    "\n",
    "import random\n",
    "\n",
    "guesses_made = 0\n",
    "\n",
    "name = raw_input('Hello! What is your name?\\n')\n",
    "\n",
    "number = random.randint(1, 20)\n",
    "print 'Well, {0}, I am thinking of a number between 1 and 20.'.format(name)\n",
    "\n",
    "while guesses_made < 6:\n",
    "\n",
    "    guess = int(raw_input('Take a guess: '))\n",
    "\n",
    "    guesses_made += 1\n",
    "\n",
    "    if guess < number:\n",
    "        print 'Your guess is too low.'\n",
    "\n",
    "    if guess > number:\n",
    "        print 'Your guess is too high.'\n",
    "\n",
    "    if guess == number:\n",
    "        break\n",
    "\n",
    "if guess == number:\n",
    "    print 'Good job, {0}! You guessed my number in {1} guesses!'.format(name, guesses_made)\n",
    "else:\n",
    "    print 'Nope. The number I was thinking of was {0}'.format(number)"
   ]
  },
  {
   "cell_type": "code",
   "execution_count": 45,
   "metadata": {},
   "outputs": [
    {
     "name": "stdout",
     "output_type": "stream",
     "text": [
      "Oi! Qual o seu nome?\n",
      "Data Science\n",
      "Eu sou o Python, prazer! Data Science, eu penso sabia? E agora mesmo estou pensando em um número entre 1 e 20.\n",
      "Qual o seu palpite? 13\n",
      "Nana nina não, seu palpite está muito alto\n",
      "Qual o seu palpite? 2\n",
      "Tá frio, o seu palpite está abaixo\n",
      "Qual o seu palpite? 7\n",
      "Nana nina não, seu palpite está muito alto\n",
      "Qual o seu palpite? 4\n",
      "Tá frio, o seu palpite está abaixo\n",
      "Qual o seu palpite? 5\n",
      "Ahhh eee Mãe Diná! Eu realmente estava pensando no número 5! Me passa os número da Mega?\n"
     ]
    }
   ],
   "source": [
    "#Codigo convertido de Python2 para Python3\n",
    "\n",
    "import random #importar pacote\n",
    "\n",
    "guesses_made = 0\n",
    "\n",
    "name = input('Oi! Qual o seu nome?\\n')\n",
    "\n",
    "number = random.randint(1, 20) #funcao do pacote importado\n",
    "print('Eu sou o Python, prazer! {0}, eu penso sabia? E agora mesmo estou pensando em um número entre 1 e 20.'.format(name))\n",
    "\n",
    "while guesses_made < 6:\n",
    "\n",
    "    guess = int(input('Qual o seu palpite? '))\n",
    "\n",
    "    guesses_made += 1\n",
    "\n",
    "    if guess < number:\n",
    "        print('Tá frio, o seu palpite está abaixo')\n",
    "\n",
    "    if guess > number:\n",
    "        print('Nana nina não, seu palpite está muito alto')\n",
    "\n",
    "    if guess == number:\n",
    "        break\n",
    "\n",
    "if guess == number:\n",
    "    print('Ahhh eee Mãe Diná! Eu realmente estava pensando no número {1}! Me passa os número da Mega?'.format(name, number))\n",
    "else:\n",
    "    print('Shiii, não tivemos sintonia de pensamentos. O número que pensei era {0}'.format(number))\n"
   ]
  },
  {
   "cell_type": "code",
   "execution_count": 46,
   "metadata": {},
   "outputs": [
    {
     "name": "stdout",
     "output_type": "stream",
     "text": [
      "10\n"
     ]
    }
   ],
   "source": [
    "a=10\n",
    "b=15\n",
    "\n",
    "if 8 <= a <= 12:\n",
    "    print(a)\n",
    "else:\n",
    "    print(b)"
   ]
  },
  {
   "cell_type": "code",
   "execution_count": null,
   "metadata": {},
   "outputs": [],
   "source": [
    "#Vamos falar de pacotes importantes? Numpy (Matrizes) / Pandas (Dataframe/Arquivos)\n",
    "\n"
   ]
  }
 ],
 "metadata": {
  "kernelspec": {
   "display_name": "Python 3",
   "language": "python",
   "name": "python3"
  },
  "language_info": {
   "codemirror_mode": {
    "name": "ipython",
    "version": 3
   },
   "file_extension": ".py",
   "mimetype": "text/x-python",
   "name": "python",
   "nbconvert_exporter": "python",
   "pygments_lexer": "ipython3",
   "version": "3.7.1"
  }
 },
 "nbformat": 4,
 "nbformat_minor": 2
}
