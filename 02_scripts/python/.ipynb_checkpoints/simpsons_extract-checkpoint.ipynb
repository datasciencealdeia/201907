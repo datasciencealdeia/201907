{
 "cells": [
  {
   "cell_type": "code",
   "execution_count": 20,
   "metadata": {},
   "outputs": [
    {
     "data": {
      "image/png": "[encoded data removed]",
      "text/plain": [
       "<Figure size 432x288 with 1 Axes>"
      ]
     },
     "metadata": {},
     "output_type": "display_data"
    }
   ],
   "source": [
    "#Open CV - Para trabalhar com imagem - ver: https://docs.opencv.org/master/index.html\n",
    "\n",
    "import cv2\n",
    "import numpy as np\n",
    "from matplotlib import pyplot as plt\n",
    "\n",
    "img = cv2.imread('/home/ds/git/201907/03_dados/desafio pessoal/train/bart2.bmp',1)\n",
    "plt.imshow(img)\n",
    "plt.xticks([]), plt.yticks([])  # to hide tick values on X and Y axis\n",
    "plt.show()"
   ]
  },
  {
   "cell_type": "code",
   "execution_count": 82,
   "metadata": {},
   "outputs": [
    {
     "name": "stdout",
     "output_type": "stream",
     "text": [
      "Laranja 0.070151\n",
      "Branco 0.603634\n",
      "Azul Escuro 0.034946\n",
      "Azul Jeans 0.000000\n",
      "Marrom 0.000000\n",
      "Outros 0.291269\n"
     ]
    }
   ],
   "source": [
    "import numpy as np\n",
    "from PIL import Image #Para trabalhar com imagem, simples, roots\n",
    "\n",
    "#Funcao para retornar a imagem como array de pixels\n",
    "def get_image_pixels(image, width, height):\n",
    "    \"\"\"Get a numpy array of an image so that one can access values[x][y].\"\"\"\n",
    "    pixel_values = list(image.getdata())\n",
    "    if image.mode == 'RGB':\n",
    "        channels = 3\n",
    "    elif image.mode == 'L':\n",
    "        channels = 1\n",
    "    else:\n",
    "        print(\"Unknown mode: %s\" % image.mode)\n",
    "        return None\n",
    "    pixel_values = np.array(pixel_values).reshape((width, height, channels))\n",
    "    return pixel_values\n",
    "\n",
    "def ehLaranja (r, g, b):\n",
    "    if 232 <= r <= 247 and 91 <= g <= 99 and 11 <= b <= 22:\n",
    "        return True\n",
    "    else:\n",
    "        return False\n",
    "\n",
    "def ehAzulEscuro (r, g, b):\n",
    "    if 0 <= r <= 16 and 8 <= g <= 17 and 132 <= b <= 177:\n",
    "        return True\n",
    "    else:\n",
    "        return False\n",
    "\n",
    "def ehBranco (r, g, b):\n",
    "    if 250 <= r <= 255 and 250 <= g <= 255 and 250 <= b <= 255:\n",
    "        return True\n",
    "    else:\n",
    "        return False\n",
    "\n",
    "def ehMarron (r, g, b):\n",
    "    if 166 <= r <= 206 and 153 <= g <= 173 and 91 <= b <= 155:\n",
    "        return True\n",
    "    else:\n",
    "        return False\n",
    "\n",
    "def ehAzulJeans (r, g, b):\n",
    "    if 0 <= r <= 50 and 64 <= g <= 107 and 173 <= b <= 177:\n",
    "        return True\n",
    "    else:\n",
    "        return False\n",
    "\n",
    "#Funcao principal do nosso codigo\n",
    "def main():\n",
    "    iLaranja, iBranco, iAzulEscuro, iAzulJeans, iMarrom, iOutros = 0, 0, 0, 0, 0, 0\n",
    "    \n",
    "    im = Image.open('/home/ds/git/201907/03_dados/desafio pessoal/train/bart1.bmp', 'r')\n",
    "    largura, altura = im.size\n",
    "\n",
    "    imagem = get_image_pixels(im, largura, altura)\n",
    "\n",
    "    for i in range(largura):\n",
    "        for y in range (altura):\n",
    "            pixel_r = imagem[i][y][0]\n",
    "            pixel_g = imagem[i][y][1]\n",
    "            pixel_b = imagem[i][y][2]\n",
    "            \n",
    "            \"\"\"\n",
    "                Faixa de Cores RGB\n",
    "                Bart\n",
    "                    Laranja R(232,247) ,G(91,99), B(11,22)\n",
    "                    Azul Escuro R(0, 16), G(8, 17), B(132,177)\n",
    "                Homer\n",
    "                    Branco R(250,255), G(250,255), B(250,255)\n",
    "                    Marron R(166, 206), G(153, 173), B(91, 155)\n",
    "                    Azul Jeans R(0, 50), G(64, 107), B(173,177)\n",
    "            \"\"\"\n",
    "            \n",
    "            #Contador cores\n",
    "            \n",
    "            if ehLaranja(pixel_r, pixel_g, pixel_b):\n",
    "                iLaranja += 1\n",
    "            elif ehAzulEscuro(pixel_r, pixel_g, pixel_b):\n",
    "                iAzulEscuro += 1\n",
    "            elif ehAzulEscuro(pixel_r, pixel_g, pixel_b):\n",
    "                iAzulEscuro += 1\n",
    "            elif ehAzulEscuro(pixel_r, pixel_g, pixel_b):\n",
    "                iAzulEscuro += 1\n",
    "            elif ehAzulEscuro(pixel_r, pixel_g, pixel_b):\n",
    "                iAzulEscuro += 1\n",
    "            elif ehBranco(pixel_r, pixel_g, pixel_b):\n",
    "                iBranco += 1\n",
    "            else:\n",
    "                iOutros += 1\n",
    "                            \n",
    "    print (\"Laranja %f\" %(iLaranja / (largura * altura)))\n",
    "    print (\"Branco %f\" %(iBranco / (largura * altura)))\n",
    "    print (\"Azul Escuro %f\" %(iAzulEscuro / (largura * altura)))\n",
    "    print (\"Azul Jeans %f\" %(iAzulJeans / (largura * altura)))\n",
    "    print (\"Marrom %f\" %(iMarrom / (largura * altura)))\n",
    "    print (\"Outros %f\" %(iOutros / (largura * altura)))\n",
    "        \n",
    "   \n",
    "#Best Practice - para definir onde comeca a execucao do nosso codigo\n",
    "if __name__ == \"__main__\":\n",
    "    main()\n"
   ]
  },
  {
   "cell_type": "code",
   "execution_count": null,
   "metadata": {},
   "outputs": [],
   "source": []
  }
 ],
 "metadata": {
  "kernelspec": {
   "display_name": "Python 3",
   "language": "python",
   "name": "python3"
  },
  "language_info": {
   "codemirror_mode": {
    "name": "ipython",
    "version": 3
   },
   "file_extension": ".py",
   "mimetype": "text/x-python",
   "name": "python",
   "nbconvert_exporter": "python",
   "pygments_lexer": "ipython3",
   "version": "3.7.1"
  }
 },
 "nbformat": 4,
 "nbformat_minor": 2
}
